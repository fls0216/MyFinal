{
 "cells": [
  {
   "cell_type": "code",
   "execution_count": 5,
   "metadata": {},
   "outputs": [],
   "source": [
    "import pandas as pd\n",
    "import numpy as np\n",
    "import matplotlib as mpl\n",
    "import matplotlib.pyplot as plt\n",
    "import seaborn as sns\n",
    "import matplotlib.font_manager as fm\n",
    "font_name = fm.FontProperties(fname = 'C:\\\\Windows\\\\Fonts\\\\malgun.ttf').get_name()\n",
    "plt.rc('font', family = font_name)\n",
    "mpl.rcParams['axes.unicode_minus'] = False"
   ]
  },
  {
   "cell_type": "code",
   "execution_count": 6,
   "metadata": {},
   "outputs": [],
   "source": [
    "train = pd.read_csv('C:\\\\Users\\\\Hyelin\\\\bigdata\\\\FinalProject\\\\TeamProject\\\\open data\\\\train.csv',encoding=\"euc-kr\",index_col = [0])"
   ]
  },
  {
   "cell_type": "code",
   "execution_count": 3,
   "metadata": {},
   "outputs": [
    {
     "data": {
      "text/html": [
       "<div>\n",
       "<style scoped>\n",
       "    .dataframe tbody tr th:only-of-type {\n",
       "        vertical-align: middle;\n",
       "    }\n",
       "\n",
       "    .dataframe tbody tr th {\n",
       "        vertical-align: top;\n",
       "    }\n",
       "\n",
       "    .dataframe thead th {\n",
       "        text-align: right;\n",
       "    }\n",
       "</style>\n",
       "<table border=\"1\" class=\"dataframe\">\n",
       "  <thead>\n",
       "    <tr style=\"text-align: right;\">\n",
       "      <th></th>\n",
       "      <th>QaA</th>\n",
       "      <th>QaE</th>\n",
       "      <th>QbA</th>\n",
       "      <th>QbE</th>\n",
       "      <th>QcA</th>\n",
       "      <th>QcE</th>\n",
       "      <th>QdA</th>\n",
       "      <th>QdE</th>\n",
       "      <th>QeA</th>\n",
       "      <th>QeE</th>\n",
       "      <th>...</th>\n",
       "      <th>wr_04</th>\n",
       "      <th>wr_05</th>\n",
       "      <th>wr_06</th>\n",
       "      <th>wr_07</th>\n",
       "      <th>wr_08</th>\n",
       "      <th>wr_09</th>\n",
       "      <th>wr_10</th>\n",
       "      <th>wr_11</th>\n",
       "      <th>wr_12</th>\n",
       "      <th>wr_13</th>\n",
       "    </tr>\n",
       "    <tr>\n",
       "      <th>index</th>\n",
       "      <th></th>\n",
       "      <th></th>\n",
       "      <th></th>\n",
       "      <th></th>\n",
       "      <th></th>\n",
       "      <th></th>\n",
       "      <th></th>\n",
       "      <th></th>\n",
       "      <th></th>\n",
       "      <th></th>\n",
       "      <th></th>\n",
       "      <th></th>\n",
       "      <th></th>\n",
       "      <th></th>\n",
       "      <th></th>\n",
       "      <th></th>\n",
       "      <th></th>\n",
       "      <th></th>\n",
       "      <th></th>\n",
       "      <th></th>\n",
       "      <th></th>\n",
       "    </tr>\n",
       "  </thead>\n",
       "  <tbody>\n",
       "    <tr>\n",
       "      <th>0</th>\n",
       "      <td>3.0</td>\n",
       "      <td>363</td>\n",
       "      <td>4.0</td>\n",
       "      <td>1370</td>\n",
       "      <td>5.0</td>\n",
       "      <td>997</td>\n",
       "      <td>1.0</td>\n",
       "      <td>1024</td>\n",
       "      <td>2.0</td>\n",
       "      <td>1577</td>\n",
       "      <td>...</td>\n",
       "      <td>0</td>\n",
       "      <td>1</td>\n",
       "      <td>0</td>\n",
       "      <td>1</td>\n",
       "      <td>1</td>\n",
       "      <td>0</td>\n",
       "      <td>1</td>\n",
       "      <td>0</td>\n",
       "      <td>1</td>\n",
       "      <td>1</td>\n",
       "    </tr>\n",
       "    <tr>\n",
       "      <th>1</th>\n",
       "      <td>5.0</td>\n",
       "      <td>647</td>\n",
       "      <td>5.0</td>\n",
       "      <td>1313</td>\n",
       "      <td>3.0</td>\n",
       "      <td>3387</td>\n",
       "      <td>5.0</td>\n",
       "      <td>2969</td>\n",
       "      <td>1.0</td>\n",
       "      <td>4320</td>\n",
       "      <td>...</td>\n",
       "      <td>1</td>\n",
       "      <td>1</td>\n",
       "      <td>0</td>\n",
       "      <td>1</td>\n",
       "      <td>1</td>\n",
       "      <td>0</td>\n",
       "      <td>1</td>\n",
       "      <td>0</td>\n",
       "      <td>1</td>\n",
       "      <td>1</td>\n",
       "    </tr>\n",
       "    <tr>\n",
       "      <th>2</th>\n",
       "      <td>4.0</td>\n",
       "      <td>1623</td>\n",
       "      <td>1.0</td>\n",
       "      <td>1480</td>\n",
       "      <td>1.0</td>\n",
       "      <td>1021</td>\n",
       "      <td>4.0</td>\n",
       "      <td>3374</td>\n",
       "      <td>5.0</td>\n",
       "      <td>1333</td>\n",
       "      <td>...</td>\n",
       "      <td>1</td>\n",
       "      <td>1</td>\n",
       "      <td>0</td>\n",
       "      <td>1</td>\n",
       "      <td>1</td>\n",
       "      <td>1</td>\n",
       "      <td>1</td>\n",
       "      <td>0</td>\n",
       "      <td>1</td>\n",
       "      <td>1</td>\n",
       "    </tr>\n",
       "    <tr>\n",
       "      <th>3</th>\n",
       "      <td>3.0</td>\n",
       "      <td>504</td>\n",
       "      <td>3.0</td>\n",
       "      <td>2311</td>\n",
       "      <td>4.0</td>\n",
       "      <td>992</td>\n",
       "      <td>3.0</td>\n",
       "      <td>3245</td>\n",
       "      <td>1.0</td>\n",
       "      <td>357</td>\n",
       "      <td>...</td>\n",
       "      <td>0</td>\n",
       "      <td>0</td>\n",
       "      <td>0</td>\n",
       "      <td>0</td>\n",
       "      <td>1</td>\n",
       "      <td>0</td>\n",
       "      <td>1</td>\n",
       "      <td>0</td>\n",
       "      <td>1</td>\n",
       "      <td>1</td>\n",
       "    </tr>\n",
       "    <tr>\n",
       "      <th>4</th>\n",
       "      <td>1.0</td>\n",
       "      <td>927</td>\n",
       "      <td>1.0</td>\n",
       "      <td>707</td>\n",
       "      <td>5.0</td>\n",
       "      <td>556</td>\n",
       "      <td>2.0</td>\n",
       "      <td>1062</td>\n",
       "      <td>1.0</td>\n",
       "      <td>1014</td>\n",
       "      <td>...</td>\n",
       "      <td>1</td>\n",
       "      <td>1</td>\n",
       "      <td>1</td>\n",
       "      <td>1</td>\n",
       "      <td>1</td>\n",
       "      <td>0</td>\n",
       "      <td>1</td>\n",
       "      <td>1</td>\n",
       "      <td>1</td>\n",
       "      <td>1</td>\n",
       "    </tr>\n",
       "    <tr>\n",
       "      <th>5</th>\n",
       "      <td>2.0</td>\n",
       "      <td>834</td>\n",
       "      <td>1.0</td>\n",
       "      <td>1769</td>\n",
       "      <td>4.0</td>\n",
       "      <td>2105</td>\n",
       "      <td>1.0</td>\n",
       "      <td>1070</td>\n",
       "      <td>5.0</td>\n",
       "      <td>1930</td>\n",
       "      <td>...</td>\n",
       "      <td>0</td>\n",
       "      <td>0</td>\n",
       "      <td>0</td>\n",
       "      <td>0</td>\n",
       "      <td>1</td>\n",
       "      <td>0</td>\n",
       "      <td>0</td>\n",
       "      <td>0</td>\n",
       "      <td>0</td>\n",
       "      <td>0</td>\n",
       "    </tr>\n",
       "    <tr>\n",
       "      <th>6</th>\n",
       "      <td>1.0</td>\n",
       "      <td>1382</td>\n",
       "      <td>1.0</td>\n",
       "      <td>1473</td>\n",
       "      <td>5.0</td>\n",
       "      <td>1479</td>\n",
       "      <td>4.0</td>\n",
       "      <td>2403</td>\n",
       "      <td>1.0</td>\n",
       "      <td>616</td>\n",
       "      <td>...</td>\n",
       "      <td>1</td>\n",
       "      <td>1</td>\n",
       "      <td>1</td>\n",
       "      <td>1</td>\n",
       "      <td>1</td>\n",
       "      <td>0</td>\n",
       "      <td>1</td>\n",
       "      <td>0</td>\n",
       "      <td>1</td>\n",
       "      <td>1</td>\n",
       "    </tr>\n",
       "    <tr>\n",
       "      <th>7</th>\n",
       "      <td>1.0</td>\n",
       "      <td>384</td>\n",
       "      <td>1.0</td>\n",
       "      <td>908</td>\n",
       "      <td>5.0</td>\n",
       "      <td>870</td>\n",
       "      <td>1.0</td>\n",
       "      <td>1059</td>\n",
       "      <td>1.0</td>\n",
       "      <td>1266</td>\n",
       "      <td>...</td>\n",
       "      <td>1</td>\n",
       "      <td>1</td>\n",
       "      <td>1</td>\n",
       "      <td>1</td>\n",
       "      <td>1</td>\n",
       "      <td>1</td>\n",
       "      <td>1</td>\n",
       "      <td>0</td>\n",
       "      <td>1</td>\n",
       "      <td>1</td>\n",
       "    </tr>\n",
       "    <tr>\n",
       "      <th>8</th>\n",
       "      <td>5.0</td>\n",
       "      <td>795</td>\n",
       "      <td>2.0</td>\n",
       "      <td>3469</td>\n",
       "      <td>4.0</td>\n",
       "      <td>1693</td>\n",
       "      <td>3.0</td>\n",
       "      <td>1991</td>\n",
       "      <td>4.0</td>\n",
       "      <td>5922</td>\n",
       "      <td>...</td>\n",
       "      <td>0</td>\n",
       "      <td>0</td>\n",
       "      <td>0</td>\n",
       "      <td>0</td>\n",
       "      <td>1</td>\n",
       "      <td>0</td>\n",
       "      <td>0</td>\n",
       "      <td>0</td>\n",
       "      <td>1</td>\n",
       "      <td>1</td>\n",
       "    </tr>\n",
       "    <tr>\n",
       "      <th>9</th>\n",
       "      <td>2.0</td>\n",
       "      <td>1668</td>\n",
       "      <td>1.0</td>\n",
       "      <td>866</td>\n",
       "      <td>1.0</td>\n",
       "      <td>895</td>\n",
       "      <td>1.0</td>\n",
       "      <td>1308</td>\n",
       "      <td>2.0</td>\n",
       "      <td>1715</td>\n",
       "      <td>...</td>\n",
       "      <td>1</td>\n",
       "      <td>1</td>\n",
       "      <td>0</td>\n",
       "      <td>1</td>\n",
       "      <td>1</td>\n",
       "      <td>0</td>\n",
       "      <td>1</td>\n",
       "      <td>1</td>\n",
       "      <td>1</td>\n",
       "      <td>1</td>\n",
       "    </tr>\n",
       "    <tr>\n",
       "      <th>10</th>\n",
       "      <td>1.0</td>\n",
       "      <td>1465</td>\n",
       "      <td>1.0</td>\n",
       "      <td>7581</td>\n",
       "      <td>4.0</td>\n",
       "      <td>1345</td>\n",
       "      <td>1.0</td>\n",
       "      <td>350</td>\n",
       "      <td>3.0</td>\n",
       "      <td>1747</td>\n",
       "      <td>...</td>\n",
       "      <td>0</td>\n",
       "      <td>1</td>\n",
       "      <td>0</td>\n",
       "      <td>1</td>\n",
       "      <td>1</td>\n",
       "      <td>0</td>\n",
       "      <td>1</td>\n",
       "      <td>1</td>\n",
       "      <td>1</td>\n",
       "      <td>1</td>\n",
       "    </tr>\n",
       "    <tr>\n",
       "      <th>11</th>\n",
       "      <td>3.0</td>\n",
       "      <td>1086</td>\n",
       "      <td>2.0</td>\n",
       "      <td>3020</td>\n",
       "      <td>5.0</td>\n",
       "      <td>1997</td>\n",
       "      <td>1.0</td>\n",
       "      <td>1358</td>\n",
       "      <td>1.0</td>\n",
       "      <td>1318</td>\n",
       "      <td>...</td>\n",
       "      <td>1</td>\n",
       "      <td>1</td>\n",
       "      <td>0</td>\n",
       "      <td>1</td>\n",
       "      <td>1</td>\n",
       "      <td>0</td>\n",
       "      <td>1</td>\n",
       "      <td>0</td>\n",
       "      <td>1</td>\n",
       "      <td>1</td>\n",
       "    </tr>\n",
       "    <tr>\n",
       "      <th>12</th>\n",
       "      <td>2.0</td>\n",
       "      <td>466</td>\n",
       "      <td>4.0</td>\n",
       "      <td>1650</td>\n",
       "      <td>4.0</td>\n",
       "      <td>655</td>\n",
       "      <td>3.0</td>\n",
       "      <td>1241</td>\n",
       "      <td>5.0</td>\n",
       "      <td>1339</td>\n",
       "      <td>...</td>\n",
       "      <td>1</td>\n",
       "      <td>1</td>\n",
       "      <td>0</td>\n",
       "      <td>1</td>\n",
       "      <td>1</td>\n",
       "      <td>0</td>\n",
       "      <td>1</td>\n",
       "      <td>1</td>\n",
       "      <td>1</td>\n",
       "      <td>1</td>\n",
       "    </tr>\n",
       "    <tr>\n",
       "      <th>13</th>\n",
       "      <td>4.0</td>\n",
       "      <td>342</td>\n",
       "      <td>3.0</td>\n",
       "      <td>2676</td>\n",
       "      <td>4.0</td>\n",
       "      <td>854</td>\n",
       "      <td>4.0</td>\n",
       "      <td>7971</td>\n",
       "      <td>3.0</td>\n",
       "      <td>981</td>\n",
       "      <td>...</td>\n",
       "      <td>1</td>\n",
       "      <td>1</td>\n",
       "      <td>0</td>\n",
       "      <td>1</td>\n",
       "      <td>1</td>\n",
       "      <td>0</td>\n",
       "      <td>1</td>\n",
       "      <td>0</td>\n",
       "      <td>1</td>\n",
       "      <td>1</td>\n",
       "    </tr>\n",
       "    <tr>\n",
       "      <th>14</th>\n",
       "      <td>1.0</td>\n",
       "      <td>739</td>\n",
       "      <td>4.0</td>\n",
       "      <td>2544</td>\n",
       "      <td>5.0</td>\n",
       "      <td>880</td>\n",
       "      <td>1.0</td>\n",
       "      <td>1425</td>\n",
       "      <td>1.0</td>\n",
       "      <td>1424</td>\n",
       "      <td>...</td>\n",
       "      <td>1</td>\n",
       "      <td>1</td>\n",
       "      <td>0</td>\n",
       "      <td>1</td>\n",
       "      <td>1</td>\n",
       "      <td>0</td>\n",
       "      <td>1</td>\n",
       "      <td>0</td>\n",
       "      <td>1</td>\n",
       "      <td>1</td>\n",
       "    </tr>\n",
       "    <tr>\n",
       "      <th>15</th>\n",
       "      <td>2.0</td>\n",
       "      <td>447</td>\n",
       "      <td>4.0</td>\n",
       "      <td>1316</td>\n",
       "      <td>4.0</td>\n",
       "      <td>745</td>\n",
       "      <td>1.0</td>\n",
       "      <td>526</td>\n",
       "      <td>3.0</td>\n",
       "      <td>1121</td>\n",
       "      <td>...</td>\n",
       "      <td>1</td>\n",
       "      <td>1</td>\n",
       "      <td>0</td>\n",
       "      <td>1</td>\n",
       "      <td>1</td>\n",
       "      <td>0</td>\n",
       "      <td>1</td>\n",
       "      <td>0</td>\n",
       "      <td>1</td>\n",
       "      <td>1</td>\n",
       "    </tr>\n",
       "    <tr>\n",
       "      <th>16</th>\n",
       "      <td>1.0</td>\n",
       "      <td>390</td>\n",
       "      <td>5.0</td>\n",
       "      <td>1322</td>\n",
       "      <td>5.0</td>\n",
       "      <td>1947</td>\n",
       "      <td>1.0</td>\n",
       "      <td>887</td>\n",
       "      <td>1.0</td>\n",
       "      <td>1127</td>\n",
       "      <td>...</td>\n",
       "      <td>1</td>\n",
       "      <td>1</td>\n",
       "      <td>0</td>\n",
       "      <td>1</td>\n",
       "      <td>1</td>\n",
       "      <td>0</td>\n",
       "      <td>1</td>\n",
       "      <td>0</td>\n",
       "      <td>1</td>\n",
       "      <td>1</td>\n",
       "    </tr>\n",
       "    <tr>\n",
       "      <th>17</th>\n",
       "      <td>2.0</td>\n",
       "      <td>247</td>\n",
       "      <td>4.0</td>\n",
       "      <td>1097</td>\n",
       "      <td>3.0</td>\n",
       "      <td>2135</td>\n",
       "      <td>1.0</td>\n",
       "      <td>451</td>\n",
       "      <td>4.0</td>\n",
       "      <td>1756</td>\n",
       "      <td>...</td>\n",
       "      <td>1</td>\n",
       "      <td>1</td>\n",
       "      <td>0</td>\n",
       "      <td>1</td>\n",
       "      <td>1</td>\n",
       "      <td>0</td>\n",
       "      <td>1</td>\n",
       "      <td>1</td>\n",
       "      <td>1</td>\n",
       "      <td>1</td>\n",
       "    </tr>\n",
       "    <tr>\n",
       "      <th>18</th>\n",
       "      <td>3.0</td>\n",
       "      <td>359</td>\n",
       "      <td>5.0</td>\n",
       "      <td>603</td>\n",
       "      <td>4.0</td>\n",
       "      <td>483</td>\n",
       "      <td>1.0</td>\n",
       "      <td>555</td>\n",
       "      <td>2.0</td>\n",
       "      <td>379</td>\n",
       "      <td>...</td>\n",
       "      <td>1</td>\n",
       "      <td>1</td>\n",
       "      <td>1</td>\n",
       "      <td>1</td>\n",
       "      <td>1</td>\n",
       "      <td>1</td>\n",
       "      <td>1</td>\n",
       "      <td>1</td>\n",
       "      <td>1</td>\n",
       "      <td>1</td>\n",
       "    </tr>\n",
       "    <tr>\n",
       "      <th>19</th>\n",
       "      <td>2.0</td>\n",
       "      <td>989</td>\n",
       "      <td>5.0</td>\n",
       "      <td>5602</td>\n",
       "      <td>5.0</td>\n",
       "      <td>542</td>\n",
       "      <td>2.0</td>\n",
       "      <td>2067</td>\n",
       "      <td>2.0</td>\n",
       "      <td>1004</td>\n",
       "      <td>...</td>\n",
       "      <td>1</td>\n",
       "      <td>1</td>\n",
       "      <td>0</td>\n",
       "      <td>1</td>\n",
       "      <td>1</td>\n",
       "      <td>0</td>\n",
       "      <td>1</td>\n",
       "      <td>1</td>\n",
       "      <td>1</td>\n",
       "      <td>1</td>\n",
       "    </tr>\n",
       "    <tr>\n",
       "      <th>20</th>\n",
       "      <td>3.0</td>\n",
       "      <td>309</td>\n",
       "      <td>4.0</td>\n",
       "      <td>877</td>\n",
       "      <td>5.0</td>\n",
       "      <td>628</td>\n",
       "      <td>3.0</td>\n",
       "      <td>427</td>\n",
       "      <td>5.0</td>\n",
       "      <td>726</td>\n",
       "      <td>...</td>\n",
       "      <td>1</td>\n",
       "      <td>1</td>\n",
       "      <td>0</td>\n",
       "      <td>1</td>\n",
       "      <td>1</td>\n",
       "      <td>0</td>\n",
       "      <td>1</td>\n",
       "      <td>0</td>\n",
       "      <td>1</td>\n",
       "      <td>1</td>\n",
       "    </tr>\n",
       "    <tr>\n",
       "      <th>21</th>\n",
       "      <td>2.0</td>\n",
       "      <td>619</td>\n",
       "      <td>4.0</td>\n",
       "      <td>1012</td>\n",
       "      <td>5.0</td>\n",
       "      <td>597</td>\n",
       "      <td>1.0</td>\n",
       "      <td>936</td>\n",
       "      <td>1.0</td>\n",
       "      <td>2443</td>\n",
       "      <td>...</td>\n",
       "      <td>1</td>\n",
       "      <td>1</td>\n",
       "      <td>0</td>\n",
       "      <td>1</td>\n",
       "      <td>1</td>\n",
       "      <td>1</td>\n",
       "      <td>1</td>\n",
       "      <td>0</td>\n",
       "      <td>1</td>\n",
       "      <td>1</td>\n",
       "    </tr>\n",
       "    <tr>\n",
       "      <th>22</th>\n",
       "      <td>4.0</td>\n",
       "      <td>366</td>\n",
       "      <td>2.0</td>\n",
       "      <td>1123</td>\n",
       "      <td>2.0</td>\n",
       "      <td>1007</td>\n",
       "      <td>2.0</td>\n",
       "      <td>581</td>\n",
       "      <td>2.0</td>\n",
       "      <td>1359</td>\n",
       "      <td>...</td>\n",
       "      <td>0</td>\n",
       "      <td>1</td>\n",
       "      <td>0</td>\n",
       "      <td>1</td>\n",
       "      <td>1</td>\n",
       "      <td>0</td>\n",
       "      <td>1</td>\n",
       "      <td>0</td>\n",
       "      <td>1</td>\n",
       "      <td>1</td>\n",
       "    </tr>\n",
       "    <tr>\n",
       "      <th>23</th>\n",
       "      <td>1.0</td>\n",
       "      <td>1922</td>\n",
       "      <td>1.0</td>\n",
       "      <td>2533</td>\n",
       "      <td>2.0</td>\n",
       "      <td>1230</td>\n",
       "      <td>3.0</td>\n",
       "      <td>3038</td>\n",
       "      <td>1.0</td>\n",
       "      <td>2065</td>\n",
       "      <td>...</td>\n",
       "      <td>1</td>\n",
       "      <td>1</td>\n",
       "      <td>0</td>\n",
       "      <td>1</td>\n",
       "      <td>1</td>\n",
       "      <td>0</td>\n",
       "      <td>1</td>\n",
       "      <td>0</td>\n",
       "      <td>1</td>\n",
       "      <td>1</td>\n",
       "    </tr>\n",
       "    <tr>\n",
       "      <th>24</th>\n",
       "      <td>2.0</td>\n",
       "      <td>835</td>\n",
       "      <td>3.0</td>\n",
       "      <td>1047</td>\n",
       "      <td>3.0</td>\n",
       "      <td>1285</td>\n",
       "      <td>1.0</td>\n",
       "      <td>864</td>\n",
       "      <td>3.0</td>\n",
       "      <td>1798</td>\n",
       "      <td>...</td>\n",
       "      <td>1</td>\n",
       "      <td>1</td>\n",
       "      <td>1</td>\n",
       "      <td>1</td>\n",
       "      <td>1</td>\n",
       "      <td>0</td>\n",
       "      <td>1</td>\n",
       "      <td>0</td>\n",
       "      <td>1</td>\n",
       "      <td>1</td>\n",
       "    </tr>\n",
       "    <tr>\n",
       "      <th>25</th>\n",
       "      <td>3.0</td>\n",
       "      <td>483</td>\n",
       "      <td>2.0</td>\n",
       "      <td>871</td>\n",
       "      <td>2.0</td>\n",
       "      <td>849</td>\n",
       "      <td>2.0</td>\n",
       "      <td>650</td>\n",
       "      <td>5.0</td>\n",
       "      <td>974</td>\n",
       "      <td>...</td>\n",
       "      <td>1</td>\n",
       "      <td>1</td>\n",
       "      <td>0</td>\n",
       "      <td>1</td>\n",
       "      <td>1</td>\n",
       "      <td>0</td>\n",
       "      <td>1</td>\n",
       "      <td>0</td>\n",
       "      <td>1</td>\n",
       "      <td>1</td>\n",
       "    </tr>\n",
       "    <tr>\n",
       "      <th>26</th>\n",
       "      <td>2.0</td>\n",
       "      <td>473</td>\n",
       "      <td>2.0</td>\n",
       "      <td>1614</td>\n",
       "      <td>4.0</td>\n",
       "      <td>1317</td>\n",
       "      <td>1.0</td>\n",
       "      <td>837</td>\n",
       "      <td>2.0</td>\n",
       "      <td>1115</td>\n",
       "      <td>...</td>\n",
       "      <td>1</td>\n",
       "      <td>1</td>\n",
       "      <td>0</td>\n",
       "      <td>1</td>\n",
       "      <td>1</td>\n",
       "      <td>0</td>\n",
       "      <td>1</td>\n",
       "      <td>0</td>\n",
       "      <td>1</td>\n",
       "      <td>1</td>\n",
       "    </tr>\n",
       "    <tr>\n",
       "      <th>27</th>\n",
       "      <td>1.0</td>\n",
       "      <td>368</td>\n",
       "      <td>4.0</td>\n",
       "      <td>2668</td>\n",
       "      <td>4.0</td>\n",
       "      <td>767</td>\n",
       "      <td>1.0</td>\n",
       "      <td>659</td>\n",
       "      <td>1.0</td>\n",
       "      <td>441</td>\n",
       "      <td>...</td>\n",
       "      <td>1</td>\n",
       "      <td>1</td>\n",
       "      <td>0</td>\n",
       "      <td>1</td>\n",
       "      <td>1</td>\n",
       "      <td>0</td>\n",
       "      <td>1</td>\n",
       "      <td>1</td>\n",
       "      <td>1</td>\n",
       "      <td>1</td>\n",
       "    </tr>\n",
       "    <tr>\n",
       "      <th>28</th>\n",
       "      <td>1.0</td>\n",
       "      <td>363</td>\n",
       "      <td>5.0</td>\n",
       "      <td>941</td>\n",
       "      <td>5.0</td>\n",
       "      <td>1237</td>\n",
       "      <td>1.0</td>\n",
       "      <td>823</td>\n",
       "      <td>5.0</td>\n",
       "      <td>1099</td>\n",
       "      <td>...</td>\n",
       "      <td>1</td>\n",
       "      <td>1</td>\n",
       "      <td>0</td>\n",
       "      <td>1</td>\n",
       "      <td>1</td>\n",
       "      <td>1</td>\n",
       "      <td>1</td>\n",
       "      <td>0</td>\n",
       "      <td>1</td>\n",
       "      <td>1</td>\n",
       "    </tr>\n",
       "    <tr>\n",
       "      <th>29</th>\n",
       "      <td>5.0</td>\n",
       "      <td>613</td>\n",
       "      <td>5.0</td>\n",
       "      <td>968</td>\n",
       "      <td>5.0</td>\n",
       "      <td>377</td>\n",
       "      <td>1.0</td>\n",
       "      <td>829</td>\n",
       "      <td>2.0</td>\n",
       "      <td>1049</td>\n",
       "      <td>...</td>\n",
       "      <td>1</td>\n",
       "      <td>1</td>\n",
       "      <td>0</td>\n",
       "      <td>1</td>\n",
       "      <td>1</td>\n",
       "      <td>0</td>\n",
       "      <td>1</td>\n",
       "      <td>1</td>\n",
       "      <td>1</td>\n",
       "      <td>1</td>\n",
       "    </tr>\n",
       "    <tr>\n",
       "      <th>30</th>\n",
       "      <td>1.0</td>\n",
       "      <td>290</td>\n",
       "      <td>1.0</td>\n",
       "      <td>984</td>\n",
       "      <td>4.0</td>\n",
       "      <td>875</td>\n",
       "      <td>2.0</td>\n",
       "      <td>819</td>\n",
       "      <td>2.0</td>\n",
       "      <td>1498</td>\n",
       "      <td>...</td>\n",
       "      <td>1</td>\n",
       "      <td>1</td>\n",
       "      <td>0</td>\n",
       "      <td>1</td>\n",
       "      <td>1</td>\n",
       "      <td>1</td>\n",
       "      <td>1</td>\n",
       "      <td>1</td>\n",
       "      <td>1</td>\n",
       "      <td>1</td>\n",
       "    </tr>\n",
       "    <tr>\n",
       "      <th>31</th>\n",
       "      <td>4.0</td>\n",
       "      <td>2340</td>\n",
       "      <td>1.0</td>\n",
       "      <td>18350</td>\n",
       "      <td>3.0</td>\n",
       "      <td>31865</td>\n",
       "      <td>1.0</td>\n",
       "      <td>4024</td>\n",
       "      <td>5.0</td>\n",
       "      <td>5023</td>\n",
       "      <td>...</td>\n",
       "      <td>1</td>\n",
       "      <td>0</td>\n",
       "      <td>0</td>\n",
       "      <td>1</td>\n",
       "      <td>1</td>\n",
       "      <td>0</td>\n",
       "      <td>1</td>\n",
       "      <td>0</td>\n",
       "      <td>1</td>\n",
       "      <td>1</td>\n",
       "    </tr>\n",
       "    <tr>\n",
       "      <th>32</th>\n",
       "      <td>2.0</td>\n",
       "      <td>804</td>\n",
       "      <td>5.0</td>\n",
       "      <td>563</td>\n",
       "      <td>4.0</td>\n",
       "      <td>1012</td>\n",
       "      <td>4.0</td>\n",
       "      <td>508</td>\n",
       "      <td>4.0</td>\n",
       "      <td>885</td>\n",
       "      <td>...</td>\n",
       "      <td>1</td>\n",
       "      <td>1</td>\n",
       "      <td>0</td>\n",
       "      <td>1</td>\n",
       "      <td>1</td>\n",
       "      <td>0</td>\n",
       "      <td>1</td>\n",
       "      <td>0</td>\n",
       "      <td>1</td>\n",
       "      <td>1</td>\n",
       "    </tr>\n",
       "    <tr>\n",
       "      <th>33</th>\n",
       "      <td>5.0</td>\n",
       "      <td>692</td>\n",
       "      <td>1.0</td>\n",
       "      <td>46</td>\n",
       "      <td>5.0</td>\n",
       "      <td>865</td>\n",
       "      <td>1.0</td>\n",
       "      <td>854</td>\n",
       "      <td>1.0</td>\n",
       "      <td>1052</td>\n",
       "      <td>...</td>\n",
       "      <td>1</td>\n",
       "      <td>1</td>\n",
       "      <td>0</td>\n",
       "      <td>1</td>\n",
       "      <td>1</td>\n",
       "      <td>1</td>\n",
       "      <td>1</td>\n",
       "      <td>0</td>\n",
       "      <td>1</td>\n",
       "      <td>1</td>\n",
       "    </tr>\n",
       "    <tr>\n",
       "      <th>34</th>\n",
       "      <td>1.0</td>\n",
       "      <td>612</td>\n",
       "      <td>5.0</td>\n",
       "      <td>1080</td>\n",
       "      <td>5.0</td>\n",
       "      <td>1102</td>\n",
       "      <td>4.0</td>\n",
       "      <td>1262</td>\n",
       "      <td>1.0</td>\n",
       "      <td>1193</td>\n",
       "      <td>...</td>\n",
       "      <td>1</td>\n",
       "      <td>1</td>\n",
       "      <td>1</td>\n",
       "      <td>1</td>\n",
       "      <td>1</td>\n",
       "      <td>0</td>\n",
       "      <td>1</td>\n",
       "      <td>0</td>\n",
       "      <td>1</td>\n",
       "      <td>1</td>\n",
       "    </tr>\n",
       "    <tr>\n",
       "      <th>35</th>\n",
       "      <td>1.0</td>\n",
       "      <td>642</td>\n",
       "      <td>5.0</td>\n",
       "      <td>590</td>\n",
       "      <td>2.0</td>\n",
       "      <td>475</td>\n",
       "      <td>2.0</td>\n",
       "      <td>647</td>\n",
       "      <td>1.0</td>\n",
       "      <td>958</td>\n",
       "      <td>...</td>\n",
       "      <td>1</td>\n",
       "      <td>1</td>\n",
       "      <td>1</td>\n",
       "      <td>1</td>\n",
       "      <td>1</td>\n",
       "      <td>0</td>\n",
       "      <td>1</td>\n",
       "      <td>1</td>\n",
       "      <td>1</td>\n",
       "      <td>1</td>\n",
       "    </tr>\n",
       "    <tr>\n",
       "      <th>36</th>\n",
       "      <td>1.0</td>\n",
       "      <td>1277</td>\n",
       "      <td>4.0</td>\n",
       "      <td>1243</td>\n",
       "      <td>5.0</td>\n",
       "      <td>1637</td>\n",
       "      <td>1.0</td>\n",
       "      <td>1792</td>\n",
       "      <td>3.0</td>\n",
       "      <td>814</td>\n",
       "      <td>...</td>\n",
       "      <td>1</td>\n",
       "      <td>1</td>\n",
       "      <td>0</td>\n",
       "      <td>1</td>\n",
       "      <td>1</td>\n",
       "      <td>0</td>\n",
       "      <td>1</td>\n",
       "      <td>0</td>\n",
       "      <td>1</td>\n",
       "      <td>0</td>\n",
       "    </tr>\n",
       "    <tr>\n",
       "      <th>37</th>\n",
       "      <td>5.0</td>\n",
       "      <td>1112</td>\n",
       "      <td>4.0</td>\n",
       "      <td>1053</td>\n",
       "      <td>1.0</td>\n",
       "      <td>1452</td>\n",
       "      <td>5.0</td>\n",
       "      <td>2972</td>\n",
       "      <td>2.0</td>\n",
       "      <td>1496</td>\n",
       "      <td>...</td>\n",
       "      <td>1</td>\n",
       "      <td>1</td>\n",
       "      <td>0</td>\n",
       "      <td>1</td>\n",
       "      <td>1</td>\n",
       "      <td>0</td>\n",
       "      <td>1</td>\n",
       "      <td>0</td>\n",
       "      <td>1</td>\n",
       "      <td>1</td>\n",
       "    </tr>\n",
       "    <tr>\n",
       "      <th>38</th>\n",
       "      <td>2.0</td>\n",
       "      <td>287</td>\n",
       "      <td>4.0</td>\n",
       "      <td>1351</td>\n",
       "      <td>4.0</td>\n",
       "      <td>639</td>\n",
       "      <td>1.0</td>\n",
       "      <td>995</td>\n",
       "      <td>2.0</td>\n",
       "      <td>1136</td>\n",
       "      <td>...</td>\n",
       "      <td>1</td>\n",
       "      <td>1</td>\n",
       "      <td>1</td>\n",
       "      <td>1</td>\n",
       "      <td>1</td>\n",
       "      <td>1</td>\n",
       "      <td>1</td>\n",
       "      <td>0</td>\n",
       "      <td>1</td>\n",
       "      <td>1</td>\n",
       "    </tr>\n",
       "    <tr>\n",
       "      <th>39</th>\n",
       "      <td>3.0</td>\n",
       "      <td>906</td>\n",
       "      <td>1.0</td>\n",
       "      <td>2483</td>\n",
       "      <td>4.0</td>\n",
       "      <td>2072</td>\n",
       "      <td>4.0</td>\n",
       "      <td>2442</td>\n",
       "      <td>5.0</td>\n",
       "      <td>3591</td>\n",
       "      <td>...</td>\n",
       "      <td>1</td>\n",
       "      <td>1</td>\n",
       "      <td>0</td>\n",
       "      <td>1</td>\n",
       "      <td>1</td>\n",
       "      <td>0</td>\n",
       "      <td>1</td>\n",
       "      <td>0</td>\n",
       "      <td>1</td>\n",
       "      <td>1</td>\n",
       "    </tr>\n",
       "    <tr>\n",
       "      <th>40</th>\n",
       "      <td>1.0</td>\n",
       "      <td>481</td>\n",
       "      <td>3.0</td>\n",
       "      <td>1630</td>\n",
       "      <td>3.0</td>\n",
       "      <td>3235</td>\n",
       "      <td>1.0</td>\n",
       "      <td>5193</td>\n",
       "      <td>3.0</td>\n",
       "      <td>2489</td>\n",
       "      <td>...</td>\n",
       "      <td>1</td>\n",
       "      <td>0</td>\n",
       "      <td>0</td>\n",
       "      <td>0</td>\n",
       "      <td>0</td>\n",
       "      <td>0</td>\n",
       "      <td>0</td>\n",
       "      <td>0</td>\n",
       "      <td>1</td>\n",
       "      <td>0</td>\n",
       "    </tr>\n",
       "    <tr>\n",
       "      <th>41</th>\n",
       "      <td>3.0</td>\n",
       "      <td>354</td>\n",
       "      <td>4.0</td>\n",
       "      <td>1668</td>\n",
       "      <td>1.0</td>\n",
       "      <td>992</td>\n",
       "      <td>1.0</td>\n",
       "      <td>1154</td>\n",
       "      <td>1.0</td>\n",
       "      <td>1354</td>\n",
       "      <td>...</td>\n",
       "      <td>1</td>\n",
       "      <td>1</td>\n",
       "      <td>0</td>\n",
       "      <td>1</td>\n",
       "      <td>1</td>\n",
       "      <td>0</td>\n",
       "      <td>1</td>\n",
       "      <td>0</td>\n",
       "      <td>1</td>\n",
       "      <td>1</td>\n",
       "    </tr>\n",
       "    <tr>\n",
       "      <th>42</th>\n",
       "      <td>3.0</td>\n",
       "      <td>860</td>\n",
       "      <td>1.0</td>\n",
       "      <td>9449</td>\n",
       "      <td>4.0</td>\n",
       "      <td>952</td>\n",
       "      <td>1.0</td>\n",
       "      <td>829</td>\n",
       "      <td>2.0</td>\n",
       "      <td>2082</td>\n",
       "      <td>...</td>\n",
       "      <td>1</td>\n",
       "      <td>1</td>\n",
       "      <td>0</td>\n",
       "      <td>1</td>\n",
       "      <td>1</td>\n",
       "      <td>1</td>\n",
       "      <td>1</td>\n",
       "      <td>1</td>\n",
       "      <td>1</td>\n",
       "      <td>1</td>\n",
       "    </tr>\n",
       "    <tr>\n",
       "      <th>43</th>\n",
       "      <td>2.0</td>\n",
       "      <td>296</td>\n",
       "      <td>1.0</td>\n",
       "      <td>2334</td>\n",
       "      <td>3.0</td>\n",
       "      <td>1313</td>\n",
       "      <td>3.0</td>\n",
       "      <td>1081</td>\n",
       "      <td>3.0</td>\n",
       "      <td>647</td>\n",
       "      <td>...</td>\n",
       "      <td>1</td>\n",
       "      <td>1</td>\n",
       "      <td>0</td>\n",
       "      <td>1</td>\n",
       "      <td>1</td>\n",
       "      <td>0</td>\n",
       "      <td>1</td>\n",
       "      <td>0</td>\n",
       "      <td>1</td>\n",
       "      <td>1</td>\n",
       "    </tr>\n",
       "    <tr>\n",
       "      <th>44</th>\n",
       "      <td>2.0</td>\n",
       "      <td>404</td>\n",
       "      <td>1.0</td>\n",
       "      <td>1811</td>\n",
       "      <td>3.0</td>\n",
       "      <td>1745</td>\n",
       "      <td>4.0</td>\n",
       "      <td>5679</td>\n",
       "      <td>2.0</td>\n",
       "      <td>2367</td>\n",
       "      <td>...</td>\n",
       "      <td>0</td>\n",
       "      <td>1</td>\n",
       "      <td>0</td>\n",
       "      <td>1</td>\n",
       "      <td>1</td>\n",
       "      <td>0</td>\n",
       "      <td>1</td>\n",
       "      <td>0</td>\n",
       "      <td>0</td>\n",
       "      <td>1</td>\n",
       "    </tr>\n",
       "    <tr>\n",
       "      <th>45</th>\n",
       "      <td>3.0</td>\n",
       "      <td>558</td>\n",
       "      <td>2.0</td>\n",
       "      <td>2694</td>\n",
       "      <td>3.0</td>\n",
       "      <td>2615</td>\n",
       "      <td>3.0</td>\n",
       "      <td>1685</td>\n",
       "      <td>3.0</td>\n",
       "      <td>2231</td>\n",
       "      <td>...</td>\n",
       "      <td>1</td>\n",
       "      <td>1</td>\n",
       "      <td>1</td>\n",
       "      <td>1</td>\n",
       "      <td>1</td>\n",
       "      <td>0</td>\n",
       "      <td>1</td>\n",
       "      <td>0</td>\n",
       "      <td>1</td>\n",
       "      <td>1</td>\n",
       "    </tr>\n",
       "    <tr>\n",
       "      <th>46</th>\n",
       "      <td>4.0</td>\n",
       "      <td>2791</td>\n",
       "      <td>1.0</td>\n",
       "      <td>1655</td>\n",
       "      <td>5.0</td>\n",
       "      <td>1549</td>\n",
       "      <td>1.0</td>\n",
       "      <td>899</td>\n",
       "      <td>1.0</td>\n",
       "      <td>1637</td>\n",
       "      <td>...</td>\n",
       "      <td>1</td>\n",
       "      <td>1</td>\n",
       "      <td>0</td>\n",
       "      <td>1</td>\n",
       "      <td>1</td>\n",
       "      <td>0</td>\n",
       "      <td>1</td>\n",
       "      <td>1</td>\n",
       "      <td>1</td>\n",
       "      <td>1</td>\n",
       "    </tr>\n",
       "    <tr>\n",
       "      <th>47</th>\n",
       "      <td>2.0</td>\n",
       "      <td>1253</td>\n",
       "      <td>2.0</td>\n",
       "      <td>1571</td>\n",
       "      <td>2.0</td>\n",
       "      <td>1076</td>\n",
       "      <td>1.0</td>\n",
       "      <td>1382</td>\n",
       "      <td>2.0</td>\n",
       "      <td>2187</td>\n",
       "      <td>...</td>\n",
       "      <td>1</td>\n",
       "      <td>1</td>\n",
       "      <td>0</td>\n",
       "      <td>1</td>\n",
       "      <td>1</td>\n",
       "      <td>0</td>\n",
       "      <td>1</td>\n",
       "      <td>0</td>\n",
       "      <td>1</td>\n",
       "      <td>1</td>\n",
       "    </tr>\n",
       "    <tr>\n",
       "      <th>48</th>\n",
       "      <td>1.0</td>\n",
       "      <td>362</td>\n",
       "      <td>5.0</td>\n",
       "      <td>957</td>\n",
       "      <td>4.0</td>\n",
       "      <td>666</td>\n",
       "      <td>1.0</td>\n",
       "      <td>900</td>\n",
       "      <td>1.0</td>\n",
       "      <td>871</td>\n",
       "      <td>...</td>\n",
       "      <td>1</td>\n",
       "      <td>1</td>\n",
       "      <td>0</td>\n",
       "      <td>1</td>\n",
       "      <td>1</td>\n",
       "      <td>0</td>\n",
       "      <td>1</td>\n",
       "      <td>1</td>\n",
       "      <td>1</td>\n",
       "      <td>1</td>\n",
       "    </tr>\n",
       "    <tr>\n",
       "      <th>49</th>\n",
       "      <td>2.0</td>\n",
       "      <td>1615</td>\n",
       "      <td>4.0</td>\n",
       "      <td>2198</td>\n",
       "      <td>5.0</td>\n",
       "      <td>1535</td>\n",
       "      <td>2.0</td>\n",
       "      <td>1422</td>\n",
       "      <td>1.0</td>\n",
       "      <td>1901</td>\n",
       "      <td>...</td>\n",
       "      <td>1</td>\n",
       "      <td>1</td>\n",
       "      <td>0</td>\n",
       "      <td>1</td>\n",
       "      <td>1</td>\n",
       "      <td>0</td>\n",
       "      <td>1</td>\n",
       "      <td>0</td>\n",
       "      <td>1</td>\n",
       "      <td>1</td>\n",
       "    </tr>\n",
       "  </tbody>\n",
       "</table>\n",
       "<p>50 rows × 77 columns</p>\n",
       "</div>"
      ],
      "text/plain": [
       "       QaA   QaE  QbA    QbE  QcA    QcE  QdA   QdE  QeA   QeE  ...  wr_04  \\\n",
       "index                                                           ...          \n",
       "0      3.0   363  4.0   1370  5.0    997  1.0  1024  2.0  1577  ...      0   \n",
       "1      5.0   647  5.0   1313  3.0   3387  5.0  2969  1.0  4320  ...      1   \n",
       "2      4.0  1623  1.0   1480  1.0   1021  4.0  3374  5.0  1333  ...      1   \n",
       "3      3.0   504  3.0   2311  4.0    992  3.0  3245  1.0   357  ...      0   \n",
       "4      1.0   927  1.0    707  5.0    556  2.0  1062  1.0  1014  ...      1   \n",
       "5      2.0   834  1.0   1769  4.0   2105  1.0  1070  5.0  1930  ...      0   \n",
       "6      1.0  1382  1.0   1473  5.0   1479  4.0  2403  1.0   616  ...      1   \n",
       "7      1.0   384  1.0    908  5.0    870  1.0  1059  1.0  1266  ...      1   \n",
       "8      5.0   795  2.0   3469  4.0   1693  3.0  1991  4.0  5922  ...      0   \n",
       "9      2.0  1668  1.0    866  1.0    895  1.0  1308  2.0  1715  ...      1   \n",
       "10     1.0  1465  1.0   7581  4.0   1345  1.0   350  3.0  1747  ...      0   \n",
       "11     3.0  1086  2.0   3020  5.0   1997  1.0  1358  1.0  1318  ...      1   \n",
       "12     2.0   466  4.0   1650  4.0    655  3.0  1241  5.0  1339  ...      1   \n",
       "13     4.0   342  3.0   2676  4.0    854  4.0  7971  3.0   981  ...      1   \n",
       "14     1.0   739  4.0   2544  5.0    880  1.0  1425  1.0  1424  ...      1   \n",
       "15     2.0   447  4.0   1316  4.0    745  1.0   526  3.0  1121  ...      1   \n",
       "16     1.0   390  5.0   1322  5.0   1947  1.0   887  1.0  1127  ...      1   \n",
       "17     2.0   247  4.0   1097  3.0   2135  1.0   451  4.0  1756  ...      1   \n",
       "18     3.0   359  5.0    603  4.0    483  1.0   555  2.0   379  ...      1   \n",
       "19     2.0   989  5.0   5602  5.0    542  2.0  2067  2.0  1004  ...      1   \n",
       "20     3.0   309  4.0    877  5.0    628  3.0   427  5.0   726  ...      1   \n",
       "21     2.0   619  4.0   1012  5.0    597  1.0   936  1.0  2443  ...      1   \n",
       "22     4.0   366  2.0   1123  2.0   1007  2.0   581  2.0  1359  ...      0   \n",
       "23     1.0  1922  1.0   2533  2.0   1230  3.0  3038  1.0  2065  ...      1   \n",
       "24     2.0   835  3.0   1047  3.0   1285  1.0   864  3.0  1798  ...      1   \n",
       "25     3.0   483  2.0    871  2.0    849  2.0   650  5.0   974  ...      1   \n",
       "26     2.0   473  2.0   1614  4.0   1317  1.0   837  2.0  1115  ...      1   \n",
       "27     1.0   368  4.0   2668  4.0    767  1.0   659  1.0   441  ...      1   \n",
       "28     1.0   363  5.0    941  5.0   1237  1.0   823  5.0  1099  ...      1   \n",
       "29     5.0   613  5.0    968  5.0    377  1.0   829  2.0  1049  ...      1   \n",
       "30     1.0   290  1.0    984  4.0    875  2.0   819  2.0  1498  ...      1   \n",
       "31     4.0  2340  1.0  18350  3.0  31865  1.0  4024  5.0  5023  ...      1   \n",
       "32     2.0   804  5.0    563  4.0   1012  4.0   508  4.0   885  ...      1   \n",
       "33     5.0   692  1.0     46  5.0    865  1.0   854  1.0  1052  ...      1   \n",
       "34     1.0   612  5.0   1080  5.0   1102  4.0  1262  1.0  1193  ...      1   \n",
       "35     1.0   642  5.0    590  2.0    475  2.0   647  1.0   958  ...      1   \n",
       "36     1.0  1277  4.0   1243  5.0   1637  1.0  1792  3.0   814  ...      1   \n",
       "37     5.0  1112  4.0   1053  1.0   1452  5.0  2972  2.0  1496  ...      1   \n",
       "38     2.0   287  4.0   1351  4.0    639  1.0   995  2.0  1136  ...      1   \n",
       "39     3.0   906  1.0   2483  4.0   2072  4.0  2442  5.0  3591  ...      1   \n",
       "40     1.0   481  3.0   1630  3.0   3235  1.0  5193  3.0  2489  ...      1   \n",
       "41     3.0   354  4.0   1668  1.0    992  1.0  1154  1.0  1354  ...      1   \n",
       "42     3.0   860  1.0   9449  4.0    952  1.0   829  2.0  2082  ...      1   \n",
       "43     2.0   296  1.0   2334  3.0   1313  3.0  1081  3.0   647  ...      1   \n",
       "44     2.0   404  1.0   1811  3.0   1745  4.0  5679  2.0  2367  ...      0   \n",
       "45     3.0   558  2.0   2694  3.0   2615  3.0  1685  3.0  2231  ...      1   \n",
       "46     4.0  2791  1.0   1655  5.0   1549  1.0   899  1.0  1637  ...      1   \n",
       "47     2.0  1253  2.0   1571  2.0   1076  1.0  1382  2.0  2187  ...      1   \n",
       "48     1.0   362  5.0    957  4.0    666  1.0   900  1.0   871  ...      1   \n",
       "49     2.0  1615  4.0   2198  5.0   1535  2.0  1422  1.0  1901  ...      1   \n",
       "\n",
       "       wr_05  wr_06  wr_07  wr_08  wr_09  wr_10  wr_11  wr_12  wr_13  \n",
       "index                                                                 \n",
       "0          1      0      1      1      0      1      0      1      1  \n",
       "1          1      0      1      1      0      1      0      1      1  \n",
       "2          1      0      1      1      1      1      0      1      1  \n",
       "3          0      0      0      1      0      1      0      1      1  \n",
       "4          1      1      1      1      0      1      1      1      1  \n",
       "5          0      0      0      1      0      0      0      0      0  \n",
       "6          1      1      1      1      0      1      0      1      1  \n",
       "7          1      1      1      1      1      1      0      1      1  \n",
       "8          0      0      0      1      0      0      0      1      1  \n",
       "9          1      0      1      1      0      1      1      1      1  \n",
       "10         1      0      1      1      0      1      1      1      1  \n",
       "11         1      0      1      1      0      1      0      1      1  \n",
       "12         1      0      1      1      0      1      1      1      1  \n",
       "13         1      0      1      1      0      1      0      1      1  \n",
       "14         1      0      1      1      0      1      0      1      1  \n",
       "15         1      0      1      1      0      1      0      1      1  \n",
       "16         1      0      1      1      0      1      0      1      1  \n",
       "17         1      0      1      1      0      1      1      1      1  \n",
       "18         1      1      1      1      1      1      1      1      1  \n",
       "19         1      0      1      1      0      1      1      1      1  \n",
       "20         1      0      1      1      0      1      0      1      1  \n",
       "21         1      0      1      1      1      1      0      1      1  \n",
       "22         1      0      1      1      0      1      0      1      1  \n",
       "23         1      0      1      1      0      1      0      1      1  \n",
       "24         1      1      1      1      0      1      0      1      1  \n",
       "25         1      0      1      1      0      1      0      1      1  \n",
       "26         1      0      1      1      0      1      0      1      1  \n",
       "27         1      0      1      1      0      1      1      1      1  \n",
       "28         1      0      1      1      1      1      0      1      1  \n",
       "29         1      0      1      1      0      1      1      1      1  \n",
       "30         1      0      1      1      1      1      1      1      1  \n",
       "31         0      0      1      1      0      1      0      1      1  \n",
       "32         1      0      1      1      0      1      0      1      1  \n",
       "33         1      0      1      1      1      1      0      1      1  \n",
       "34         1      1      1      1      0      1      0      1      1  \n",
       "35         1      1      1      1      0      1      1      1      1  \n",
       "36         1      0      1      1      0      1      0      1      0  \n",
       "37         1      0      1      1      0      1      0      1      1  \n",
       "38         1      1      1      1      1      1      0      1      1  \n",
       "39         1      0      1      1      0      1      0      1      1  \n",
       "40         0      0      0      0      0      0      0      1      0  \n",
       "41         1      0      1      1      0      1      0      1      1  \n",
       "42         1      0      1      1      1      1      1      1      1  \n",
       "43         1      0      1      1      0      1      0      1      1  \n",
       "44         1      0      1      1      0      1      0      0      1  \n",
       "45         1      1      1      1      0      1      0      1      1  \n",
       "46         1      0      1      1      0      1      1      1      1  \n",
       "47         1      0      1      1      0      1      0      1      1  \n",
       "48         1      0      1      1      0      1      1      1      1  \n",
       "49         1      0      1      1      0      1      0      1      1  \n",
       "\n",
       "[50 rows x 77 columns]"
      ]
     },
     "execution_count": 3,
     "metadata": {},
     "output_type": "execute_result"
    }
   ],
   "source": [
    "train.head(50)"
   ]
  },
  {
   "cell_type": "code",
   "execution_count": 5,
   "metadata": {},
   "outputs": [
    {
     "data": {
      "text/plain": [
       "(45532, 77)"
      ]
     },
     "execution_count": 5,
     "metadata": {},
     "output_type": "execute_result"
    }
   ],
   "source": [
    "train.shape"
   ]
  },
  {
   "cell_type": "code",
   "execution_count": 6,
   "metadata": {},
   "outputs": [
    {
     "name": "stdout",
     "output_type": "stream",
     "text": [
      "<class 'pandas.core.frame.DataFrame'>\n",
      "Int64Index: 45532 entries, 0 to 45531\n",
      "Data columns (total 77 columns):\n",
      " #   Column      Non-Null Count  Dtype  \n",
      "---  ------      --------------  -----  \n",
      " 0   QaA         45532 non-null  float64\n",
      " 1   QaE         45532 non-null  int64  \n",
      " 2   QbA         45532 non-null  float64\n",
      " 3   QbE         45532 non-null  int64  \n",
      " 4   QcA         45532 non-null  float64\n",
      " 5   QcE         45532 non-null  int64  \n",
      " 6   QdA         45532 non-null  float64\n",
      " 7   QdE         45532 non-null  int64  \n",
      " 8   QeA         45532 non-null  float64\n",
      " 9   QeE         45532 non-null  int64  \n",
      " 10  QfA         45532 non-null  float64\n",
      " 11  QfE         45532 non-null  int64  \n",
      " 12  QgA         45532 non-null  float64\n",
      " 13  QgE         45532 non-null  int64  \n",
      " 14  QhA         45532 non-null  float64\n",
      " 15  QhE         45532 non-null  int64  \n",
      " 16  QiA         45532 non-null  float64\n",
      " 17  QiE         45532 non-null  int64  \n",
      " 18  QjA         45532 non-null  float64\n",
      " 19  QjE         45532 non-null  int64  \n",
      " 20  QkA         45532 non-null  float64\n",
      " 21  QkE         45532 non-null  int64  \n",
      " 22  QlA         45532 non-null  float64\n",
      " 23  QlE         45532 non-null  int64  \n",
      " 24  QmA         45532 non-null  float64\n",
      " 25  QmE         45532 non-null  int64  \n",
      " 26  QnA         45532 non-null  float64\n",
      " 27  QnE         45532 non-null  int64  \n",
      " 28  QoA         45532 non-null  float64\n",
      " 29  QoE         45532 non-null  int64  \n",
      " 30  QpA         45532 non-null  float64\n",
      " 31  QpE         45532 non-null  int64  \n",
      " 32  QqA         45532 non-null  float64\n",
      " 33  QqE         45532 non-null  int64  \n",
      " 34  QrA         45532 non-null  float64\n",
      " 35  QrE         45532 non-null  int64  \n",
      " 36  QsA         45532 non-null  float64\n",
      " 37  QsE         45532 non-null  int64  \n",
      " 38  QtA         45532 non-null  float64\n",
      " 39  QtE         45532 non-null  int64  \n",
      " 40  age_group   45532 non-null  object \n",
      " 41  education   45532 non-null  int64  \n",
      " 42  engnat      45532 non-null  int64  \n",
      " 43  familysize  45532 non-null  int64  \n",
      " 44  gender      45532 non-null  object \n",
      " 45  hand        45532 non-null  int64  \n",
      " 46  married     45532 non-null  int64  \n",
      " 47  race        45532 non-null  object \n",
      " 48  religion    45532 non-null  object \n",
      " 49  tp01        45532 non-null  int64  \n",
      " 50  tp02        45532 non-null  int64  \n",
      " 51  tp03        45532 non-null  int64  \n",
      " 52  tp04        45532 non-null  int64  \n",
      " 53  tp05        45532 non-null  int64  \n",
      " 54  tp06        45532 non-null  int64  \n",
      " 55  tp07        45532 non-null  int64  \n",
      " 56  tp08        45532 non-null  int64  \n",
      " 57  tp09        45532 non-null  int64  \n",
      " 58  tp10        45532 non-null  int64  \n",
      " 59  urban       45532 non-null  int64  \n",
      " 60  voted       45532 non-null  int64  \n",
      " 61  wf_01       45532 non-null  int64  \n",
      " 62  wf_02       45532 non-null  int64  \n",
      " 63  wf_03       45532 non-null  int64  \n",
      " 64  wr_01       45532 non-null  int64  \n",
      " 65  wr_02       45532 non-null  int64  \n",
      " 66  wr_03       45532 non-null  int64  \n",
      " 67  wr_04       45532 non-null  int64  \n",
      " 68  wr_05       45532 non-null  int64  \n",
      " 69  wr_06       45532 non-null  int64  \n",
      " 70  wr_07       45532 non-null  int64  \n",
      " 71  wr_08       45532 non-null  int64  \n",
      " 72  wr_09       45532 non-null  int64  \n",
      " 73  wr_10       45532 non-null  int64  \n",
      " 74  wr_11       45532 non-null  int64  \n",
      " 75  wr_12       45532 non-null  int64  \n",
      " 76  wr_13       45532 non-null  int64  \n",
      "dtypes: float64(20), int64(53), object(4)\n",
      "memory usage: 27.1+ MB\n"
     ]
    }
   ],
   "source": [
    "# 데이터의 컬럼 살펴보기\n",
    "train.info()"
   ]
  },
  {
   "cell_type": "markdown",
   "metadata": {},
   "source": [
    "### 데이터 null값 없음"
   ]
  },
  {
   "cell_type": "markdown",
   "metadata": {},
   "source": [
    "## Q_E 막대그래프"
   ]
  },
  {
   "cell_type": "code",
   "execution_count": 7,
   "metadata": {},
   "outputs": [
    {
     "data": {
      "text/plain": [
       "0"
      ]
     },
     "execution_count": 7,
     "metadata": {},
     "output_type": "execute_result"
    }
   ],
   "source": [
    "aelist = ['QaE', 'QbE', 'QcE', 'QdE', 'QaE', 'QeE', 'QfE', 'QgE', 'QhE', 'QiE', 'QjE', 'QkE', 'QlE', 'QmE', 'QnE', 'QoE', 'QpE', 'QqE', 'QrE', 'QsE', 'QtE']"
   ]
  },
  {
   "cell_type": "code",
   "execution_count": 8,
   "metadata": {
    "scrolled": false
   },
   "outputs": [
    {
     "name": "stdout",
     "output_type": "stream",
     "text": [
      "QaE\n",
      "2413960\n",
      "557.0\n",
      "25\n",
      "******************************\n",
      "QbE\n",
      "5580395\n",
      "1218.0\n",
      "25\n",
      "******************************\n",
      "QcE\n",
      "871557\n",
      "899.0\n",
      "25\n",
      "******************************\n",
      "QdE\n",
      "1552821\n",
      "931.0\n",
      "26\n",
      "******************************\n",
      "QaE\n",
      "2413960\n",
      "557.0\n",
      "25\n",
      "******************************\n",
      "QeE\n",
      "1919926\n",
      "1154.0\n",
      "25\n",
      "******************************\n",
      "QfE\n",
      "11763701\n",
      "712.0\n",
      "25\n",
      "******************************\n",
      "QgE\n",
      "1068252\n",
      "772.0\n",
      "25\n",
      "******************************\n",
      "QhE\n",
      "107086013\n",
      "1464.0\n",
      "0\n",
      "******************************\n",
      "QiE\n",
      "17035860\n",
      "1800.0\n",
      "0\n",
      "******************************\n",
      "QjE\n",
      "9910006\n",
      "1260.0\n",
      "0\n",
      "******************************\n",
      "QkE\n",
      "4824953\n",
      "1178.0\n",
      "0\n",
      "******************************\n",
      "QlE\n",
      "77543511\n",
      "1125.0\n",
      "25\n",
      "******************************\n",
      "QmE\n",
      "14108320\n",
      "906.0\n",
      "25\n",
      "******************************\n",
      "QnE\n",
      "606694\n",
      "596.0\n",
      "25\n",
      "******************************\n",
      "QoE\n",
      "1309739\n",
      "883.0\n",
      "0\n",
      "******************************\n",
      "QpE\n",
      "4650742\n",
      "970.0\n",
      "0\n",
      "******************************\n",
      "QqE\n",
      "4277510\n",
      "652.0\n",
      "0\n",
      "******************************\n",
      "QrE\n",
      "31593284\n",
      "1117.0\n",
      "25\n",
      "******************************\n",
      "QsE\n",
      "1286581\n",
      "747.0\n",
      "25\n",
      "******************************\n",
      "QtE\n",
      "11556504\n",
      "1020.0\n",
      "25\n",
      "******************************\n"
     ]
    }
   ],
   "source": [
    "a = 0\n",
    "for i in aelist:\n",
    "    print(aelist[a])\n",
    "    print(max(train[aelist[a]]))\n",
    "    print(np.median(train[aelist[a]]))\n",
    "    print(min(train[aelist[a]]))\n",
    "    print(\"*\" * 30)\n",
    "    a+=1"
   ]
  },
  {
   "cell_type": "code",
   "execution_count": 10,
   "metadata": {},
   "outputs": [
    {
     "name": "stdout",
     "output_type": "stream",
     "text": [
      "107086013 0\n"
     ]
    }
   ],
   "source": [
    "a = 0\n",
    "maxnum = []\n",
    "minnum = []\n",
    "for i in aelist:\n",
    "    maxnum.append(max(train[aelist[a]]))\n",
    "    minnum.append(min(train[aelist[a]]))\n",
    "    a+=1\n",
    "print(max(maxnum), min(minnum))"
   ]
  },
  {
   "cell_type": "code",
   "execution_count": 18,
   "metadata": {
    "scrolled": false
   },
   "outputs": [
    {
     "data": {
      "image/png": "[encoded data removed]",
      "text/plain": [
       "<Figure size 432x288 with 1 Axes>"
      ]
     },
     "metadata": {
      "needs_background": "light"
     },
     "output_type": "display_data"
    },
    {
     "data": {
      "image/png": "[encoded data removed]",
      "text/plain": [
       "<Figure size 432x288 with 1 Axes>"
      ]
     },
     "metadata": {
      "needs_background": "light"
     },
     "output_type": "display_data"
    },
    {
     "data": {
      "image/png": "[encoded data removed]",
      "text/plain": [
       "<Figure size 432x288 with 1 Axes>"
      ]
     },
     "metadata": {
      "needs_background": "light"
     },
     "output_type": "display_data"
    },
    {
     "data": {
      "image/png": "[encoded data removed]",
      "text/plain": [
       "<Figure size 432x288 with 1 Axes>"
      ]
     },
     "metadata": {
      "needs_background": "light"
     },
     "output_type": "display_data"
    },
    {
     "data": {
      "image/png": "[encoded data removed]",
      "text/plain": [
       "<Figure size 432x288 with 1 Axes>"
      ]
     },
     "metadata": {
      "needs_background": "light"
     },
     "output_type": "display_data"
    },
    {
     "data": {
      "image/png": "[encoded data removed]",
      "text/plain": [
       "<Figure size 432x288 with 1 Axes>"
      ]
     },
     "metadata": {
      "needs_background": "light"
     },
     "output_type": "display_data"
    },
    {
     "data": {
      "image/png": "[encoded data removed]",
      "text/plain": [
       "<Figure size 432x288 with 1 Axes>"
      ]
     },
     "metadata": {
      "needs_background": "light"
     },
     "output_type": "display_data"
    },
    {
     "data": {
      "image/png": "[encoded data removed]",
      "text/plain": [
       "<Figure size 432x288 with 1 Axes>"
      ]
     },
     "metadata": {
      "needs_background": "light"
     },
     "output_type": "display_data"
    },
    {
     "data": {
      "image/png": "[encoded data removed]",
      "text/plain": [
       "<Figure size 432x288 with 1 Axes>"
      ]
     },
     "metadata": {
      "needs_background": "light"
     },
     "output_type": "display_data"
    },
    {
     "data": {
      "image/png": "[encoded data removed]",
      "text/plain": [
       "<Figure size 432x288 with 1 Axes>"
      ]
     },
     "metadata": {
      "needs_background": "light"
     },
     "output_type": "display_data"
    },
    {
     "data": {
      "image/png": "[encoded data removed]",
      "text/plain": [
       "<Figure size 432x288 with 1 Axes>"
      ]
     },
     "metadata": {
      "needs_background": "light"
     },
     "output_type": "display_data"
    },
    {
     "data": {
      "image/png": "[encoded data removed]",
      "text/plain": [
       "<Figure size 432x288 with 1 Axes>"
      ]
     },
     "metadata": {
      "needs_background": "light"
     },
     "output_type": "display_data"
    },
    {
     "data": {
      "image/png": "[encoded data removed]",
      "text/plain": [
       "<Figure size 432x288 with 1 Axes>"
      ]
     },
     "metadata": {
      "needs_background": "light"
     },
     "output_type": "display_data"
    },
    {
     "data": {
      "image/png": "[encoded data removed]",
      "text/plain": [
       "<Figure size 432x288 with 1 Axes>"
      ]
     },
     "metadata": {
      "needs_background": "light"
     },
     "output_type": "display_data"
    },
    {
     "data": {
      "image/png": "[encoded data removed]",
      "text/plain": [
       "<Figure size 432x288 with 1 Axes>"
      ]
     },
     "metadata": {
      "needs_background": "light"
     },
     "output_type": "display_data"
    },
    {
     "data": {
      "image/png": "[encoded data removed]",
      "text/plain": [
       "<Figure size 432x288 with 1 Axes>"
      ]
     },
     "metadata": {
      "needs_background": "light"
     },
     "output_type": "display_data"
    },
    {
     "data": {
      "image/png": "[encoded data removed]",
      "text/plain": [
       "<Figure size 432x288 with 1 Axes>"
      ]
     },
     "metadata": {
      "needs_background": "light"
     },
     "output_type": "display_data"
    },
    {
     "data": {
      "image/png": "[encoded data removed]",
      "text/plain": [
       "<Figure size 432x288 with 1 Axes>"
      ]
     },
     "metadata": {
      "needs_background": "light"
     },
     "output_type": "display_data"
    },
    {
     "data": {
      "image/png": "[encoded data removed]",
      "text/plain": [
       "<Figure size 432x288 with 1 Axes>"
      ]
     },
     "metadata": {
      "needs_background": "light"
     },
     "output_type": "display_data"
    },
    {
     "data": {
      "image/png": "[encoded data removed]",
      "text/plain": [
       "<Figure size 432x288 with 1 Axes>"
      ]
     },
     "metadata": {
      "needs_background": "light"
     },
     "output_type": "display_data"
    },
    {
     "data": {
      "image/png": "[encoded data removed]",
      "text/plain": [
       "<Figure size 432x288 with 1 Axes>"
      ]
     },
     "metadata": {
      "needs_background": "light"
     },
     "output_type": "display_data"
    }
   ],
   "source": [
    "a = 0\n",
    "for i in aelist:\n",
    "    data = train[aelist[a]]\n",
    "    plt.boxplot(data)\n",
    "    plt.title(aelist[a])\n",
    "    plt.show()\n",
    "    a+=1\n",
    "\n",
    "    "
   ]
  },
  {
   "cell_type": "markdown",
   "metadata": {},
   "source": [
    "## Urdan 빈도수 확인"
   ]
  },
  {
   "cell_type": "code",
   "execution_count": 46,
   "metadata": {},
   "outputs": [
    {
     "data": {
      "text/plain": [
       "urban\n",
       "0      322\n",
       "1     8909\n",
       "2    18534\n",
       "3    17767\n",
       "dtype: int64"
      ]
     },
     "execution_count": 46,
     "metadata": {},
     "output_type": "execute_result"
    }
   ],
   "source": [
    "urdan_train = train.groupby(train['urban']).size()\n",
    "label = ['무응답','country side', 'Suburban', '(town, city)']\n",
    "index = np.arange(len(label))\n",
    "\n",
    "urdan_train"
   ]
  },
  {
   "cell_type": "code",
   "execution_count": 47,
   "metadata": {
    "scrolled": true
   },
   "outputs": [
    {
     "data": {
      "text/plain": [
       "Text(0, 0.5, 'size')"
      ]
     },
     "execution_count": 47,
     "metadata": {},
     "output_type": "execute_result"
    },
    {
     "data": {
      "image/png": "[encoded data removed]",
      "text/plain": [
       "<Figure size 432x288 with 1 Axes>"
      ]
     },
     "metadata": {
      "needs_background": "light"
     },
     "output_type": "display_data"
    }
   ],
   "source": [
    "\n",
    "plt.bar(label, urdan_train)\n",
    "plt.title('Urdan', fontsize=20)\n",
    "\n",
    "plt.xlabel('urdan', fontsize=18)\n",
    "\n",
    "plt.ylabel('size', fontsize=18)\n"
   ]
  },
  {
   "cell_type": "markdown",
   "metadata": {},
   "source": [
    "## religion 분류"
   ]
  },
  {
   "cell_type": "markdown",
   "metadata": {},
   "source": [
    "'Sikh' = 인도의 시크교   \n",
    "'Christian_Mormon'= 몰몬   \n",
    "'Jewish' = 유대교   \n",
    "'Buddhist' = 불교   \n",
    "'Muslim' = 무슬림   \n",
    "'Hindu' = 힌두교   \n",
    "'Other' = ...?   \n",
    "'Christian_Protestant' = '천주교'+개신교   \n",
    "'Christian_Other' = 그외 크리스천   \n",
    "'Christian_Catholic' = 카톨릭   \n",
    "'Agnostic' = 불가지론자, 신이 있는지 없는지 알 수 없음   \n",
    "'Atheist' = 무신론자   "
   ]
  },
  {
   "cell_type": "code",
   "execution_count": 35,
   "metadata": {
    "scrolled": true
   },
   "outputs": [
    {
     "data": {
      "text/plain": [
       "religion\n",
       "Sikh                      117\n",
       "Christian_Mormon          428\n",
       "Jewish                    487\n",
       "Buddhist                  850\n",
       "Muslim                   1192\n",
       "Hindu                    1429\n",
       "Other                    4770\n",
       "Christian_Protestant     4875\n",
       "Christian_Other          5137\n",
       "Christian_Catholic       6431\n",
       "Agnostic                 9624\n",
       "Atheist                 10192\n",
       "dtype: int64"
      ]
     },
     "execution_count": 35,
     "metadata": {},
     "output_type": "execute_result"
    }
   ],
   "source": [
    "religion_train = train.groupby(train['religion']).size()\n",
    "\n",
    "religion_train = religion_train.sort_values()\n",
    "religion_train"
   ]
  },
  {
   "cell_type": "code",
   "execution_count": 36,
   "metadata": {},
   "outputs": [
    {
     "data": {
      "text/plain": [
       "Text(0, 0.5, 'size')"
      ]
     },
     "execution_count": 36,
     "metadata": {},
     "output_type": "execute_result"
    },
    {
     "data": {
      "image/png": "[encoded data removed]",
      "text/plain": [
       "<Figure size 432x288 with 1 Axes>"
      ]
     },
     "metadata": {
      "needs_background": "light"
     },
     "output_type": "display_data"
    }
   ],
   "source": [
    "plt.barh(religion_train.index, religion_train)\n",
    "\n",
    "plt.title('religion', fontsize=20)\n",
    "\n",
    "plt.xlabel('religion', fontsize=18)\n",
    "\n",
    "plt.ylabel('size', fontsize=18)"
   ]
  },
  {
   "cell_type": "markdown",
   "metadata": {},
   "source": [
    "### race 막대그래프 시각화"
   ]
  },
  {
   "cell_type": "code",
   "execution_count": 5,
   "metadata": {},
   "outputs": [
    {
     "data": {
      "text/plain": [
       "race\n",
       "Indigenous Australian       53\n",
       "Arab                       351\n",
       "Native American            548\n",
       "Black                     2168\n",
       "Other                     4330\n",
       "Asian                     6834\n",
       "White                    31248\n",
       "dtype: int64"
      ]
     },
     "execution_count": 5,
     "metadata": {},
     "output_type": "execute_result"
    }
   ],
   "source": [
    "race_train = train.groupby(train['race']).size()\n",
    "\n",
    "race_train = race_train.sort_values()\n",
    "race_train"
   ]
  },
  {
   "cell_type": "code",
   "execution_count": 6,
   "metadata": {},
   "outputs": [
    {
     "data": {
      "text/plain": [
       "Text(0, 0.5, 'size')"
      ]
     },
     "execution_count": 6,
     "metadata": {},
     "output_type": "execute_result"
    },
    {
     "data": {
      "image/png": "[encoded data removed]",
      "text/plain": [
       "<Figure size 432x288 with 1 Axes>"
      ]
     },
     "metadata": {
      "needs_background": "light"
     },
     "output_type": "display_data"
    }
   ],
   "source": [
    "plt.barh(race_train.index, race_train)\n",
    "\n",
    "plt.title('race', fontsize=20)\n",
    "\n",
    "plt.xlabel('race', fontsize=18)\n",
    "\n",
    "plt.ylabel('size', fontsize=18)"
   ]
  },
  {
   "cell_type": "markdown",
   "metadata": {},
   "source": [
    "일단 시각화 해봄     \n",
    "백인이 가장 많고(31248) 아시안(Asian), 흑인(Black) 순   \n",
    "예상보다 흑인의 수가 적음. 백인 흑인 아시안 을 제외하고는 한 묶음으로 묶어도 괜찮을 것 같음   "
   ]
  },
  {
   "cell_type": "markdown",
   "metadata": {},
   "source": [
    "## education(교육 수준) 시각화"
   ]
  },
  {
   "cell_type": "code",
   "execution_count": 19,
   "metadata": {},
   "outputs": [
    {
     "data": {
      "text/plain": [
       "education\n",
       "0      528\n",
       "1     5088\n",
       "2    16835\n",
       "3    15227\n",
       "4     7854\n",
       "dtype: int64"
      ]
     },
     "execution_count": 19,
     "metadata": {},
     "output_type": "execute_result"
    }
   ],
   "source": [
    "education_train = train.groupby(train['education']).size()\n",
    "label = ['무응답', 'Less than high school', 'High school', 'University degree', 'Graduate degree']\n",
    "\n",
    "education_train"
   ]
  },
  {
   "cell_type": "code",
   "execution_count": 20,
   "metadata": {},
   "outputs": [
    {
     "data": {
      "text/plain": [
       "Text(0, 0.5, 'size')"
      ]
     },
     "execution_count": 20,
     "metadata": {},
     "output_type": "execute_result"
    },
    {
     "data": {
      "image/png": "[encoded data removed]",
      "text/plain": [
       "<Figure size 432x288 with 1 Axes>"
      ]
     },
     "metadata": {
      "needs_background": "light"
     },
     "output_type": "display_data"
    }
   ],
   "source": [
    "plt.barh(label, education_train)\n",
    "\n",
    "plt.title('education', fontsize=20)\n",
    "\n",
    "plt.xlabel('education', fontsize=18)\n",
    "\n",
    "plt.ylabel('size', fontsize=18)"
   ]
  },
  {
   "cell_type": "markdown",
   "metadata": {},
   "source": [
    "## engnat(모국어가 영어) 막대그래프"
   ]
  },
  {
   "cell_type": "code",
   "execution_count": 21,
   "metadata": {},
   "outputs": [
    {
     "data": {
      "text/plain": [
       "engnat\n",
       "0       77\n",
       "1    33024\n",
       "2    12431\n",
       "dtype: int64"
      ]
     },
     "execution_count": 21,
     "metadata": {},
     "output_type": "execute_result"
    }
   ],
   "source": [
    "engnat_train = train.groupby(train['engnat']).size()\n",
    "\n",
    "engnat_train"
   ]
  },
  {
   "cell_type": "code",
   "execution_count": 22,
   "metadata": {
    "scrolled": true
   },
   "outputs": [
    {
     "data": {
      "text/plain": [
       "<matplotlib.axes._subplots.AxesSubplot at 0x2818f543788>"
      ]
     },
     "execution_count": 22,
     "metadata": {},
     "output_type": "execute_result"
    },
    {
     "data": {
      "image/png": "[encoded data removed]",
      "text/plain": [
       "<Figure size 432x288 with 1 Axes>"
      ]
     },
     "metadata": {
      "needs_background": "light"
     },
     "output_type": "display_data"
    }
   ],
   "source": [
    "sns.countplot(x=\"engnat\", data=train)"
   ]
  },
  {
   "cell_type": "markdown",
   "metadata": {},
   "source": [
    "## hand(필기하는 손) 막대그래프화"
   ]
  },
  {
   "cell_type": "code",
   "execution_count": 23,
   "metadata": {},
   "outputs": [
    {
     "data": {
      "text/plain": [
       "hand\n",
       "0      161\n",
       "1    39058\n",
       "2     4692\n",
       "3     1621\n",
       "dtype: int64"
      ]
     },
     "execution_count": 23,
     "metadata": {},
     "output_type": "execute_result"
    }
   ],
   "source": [
    "hand_train = train.groupby(train['hand']).size()\n",
    "\n",
    "label = ['무응답', '오른손', '왼손', '양손']\n",
    "\n",
    "hand_train"
   ]
  },
  {
   "cell_type": "code",
   "execution_count": 24,
   "metadata": {},
   "outputs": [
    {
     "data": {
      "text/plain": [
       "Text(0, 0.5, 'size')"
      ]
     },
     "execution_count": 24,
     "metadata": {},
     "output_type": "execute_result"
    },
    {
     "data": {
      "image/png": "[encoded data removed]",
      "text/plain": [
       "<Figure size 432x288 with 1 Axes>"
      ]
     },
     "metadata": {
      "needs_background": "light"
     },
     "output_type": "display_data"
    }
   ],
   "source": [
    "plt.bar(label, hand_train)\n",
    "\n",
    "plt.title('hand', fontsize=20)\n",
    "\n",
    "plt.xlabel('hand', fontsize=18)\n",
    "\n",
    "plt.ylabel('size', fontsize=18)"
   ]
  },
  {
   "cell_type": "code",
   "execution_count": 25,
   "metadata": {},
   "outputs": [
    {
     "data": {
      "image/png": "[encoded data removed]",
      "text/plain": [
       "<Figure size 432x288 with 1 Axes>"
      ]
     },
     "metadata": {},
     "output_type": "display_data"
    }
   ],
   "source": [
    "label = ['무응답', '오른손', '왼손', '양손']\n",
    "num = [161,39058,4692,1621]\n",
    "plt.pie(num, labels=label, autopct='%.1f%%')\n",
    "plt.legend()\n",
    "plt.show()"
   ]
  },
  {
   "cell_type": "code",
   "execution_count": null,
   "metadata": {},
   "outputs": [],
   "source": []
  }
 ],
 "metadata": {
  "kernelspec": {
   "display_name": "Python 3",
   "language": "python",
   "name": "python3"
  },
  "language_info": {
   "codemirror_mode": {
    "name": "ipython",
    "version": 3
   },
   "file_extension": ".py",
   "mimetype": "text/x-python",
   "name": "python",
   "nbconvert_exporter": "python",
   "pygments_lexer": "ipython3",
   "version": "3.7.6"
  }
 },
 "nbformat": 4,
 "nbformat_minor": 4
}
